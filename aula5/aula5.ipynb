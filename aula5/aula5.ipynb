{
 "cells": [
  {
   "cell_type": "code",
   "execution_count": null,
   "metadata": {},
   "outputs": [],
   "source": [
    "#URLLIB\n",
    "#REQUESTS\n",
    "#TERMINATOR\n",
    "#HTTPBIN.ORG\n",
    "#SWAGGER (OPENAPI)\n",
    "#Implementar /gzip, DELETE PATCH e PUT\n",
    "\n",
    "#Projeto finalidade\n",
    "#Definir o desenho do projeot, os endpoints e os payloads e tornar-los classes"
   ]
  },
  {
   "cell_type": "code",
   "execution_count": null,
   "metadata": {},
   "outputs": [],
   "source": [
    "import requests as re\n",
    "\n",
    "params = {\n",
    "    \"regiao\": 1,\n",
    "    \"marca\": \"Renault\",\n",
    "    \"preco\": \"1000-2000\"\n",
    "}\n",
    "\n",
    "response = re.get(\"https://www.socarrao.com.br/parana\", params=params)\n",
    "\n",
    "print(\"HTTP Status -> \", response.status_code)\n",
    "print(\"Texto -> \", response.text)\n",
    "#print(\"Json ->\", response.json())\n",
    "#print(\"Json ->\", response.json()[\"headers\"][\"Host\"])\n",
    "print(\"Header -> \", response.headers)\n"
   ]
  },
  {
   "cell_type": "code",
   "execution_count": 9,
   "metadata": {},
   "outputs": [
    {
     "name": "stdout",
     "output_type": "stream",
     "text": [
      "HTTP Status ->  200\n",
      "Texto ->  {\n",
      "  \"args\": {}, \n",
      "  \"data\": \"\", \n",
      "  \"files\": {}, \n",
      "  \"form\": {\n",
      "    \"marca\": \"Renault\", \n",
      "    \"preco\": \"1000-2000\", \n",
      "    \"regiao\": \"1\"\n",
      "  }, \n",
      "  \"headers\": {\n",
      "    \"Accept\": \"*/*\", \n",
      "    \"Accept-Encoding\": \"gzip, deflate\", \n",
      "    \"Content-Length\": \"38\", \n",
      "    \"Content-Type\": \"application/x-www-form-urlencoded\", \n",
      "    \"Host\": \"www.httpbin.org\", \n",
      "    \"Token\": \"Bearer Batata\", \n",
      "    \"User-Agent\": \"python-requests/2.18.4\", \n",
      "    \"X-Amzn-Trace-Id\": \"Root=1-6403672e-55f0c78771d103336e587b46\"\n",
      "  }, \n",
      "  \"json\": null, \n",
      "  \"origin\": \"177.40.1.40\", \n",
      "  \"url\": \"https://www.httpbin.org/post\"\n",
      "}\n",
      "\n",
      "Header ->  {'Date': 'Sat, 04 Mar 2023 15:43:42 GMT', 'Content-Type': 'application/json', 'Content-Length': '568', 'Connection': 'keep-alive', 'Server': 'gunicorn/19.9.0', 'Access-Control-Allow-Origin': '*', 'Access-Control-Allow-Credentials': 'true'}\n"
     ]
    }
   ],
   "source": [
    "import requests as re\n",
    "\n",
    "payload = {\n",
    "    \"regiao\": 1,\n",
    "    \"marca\": \"Renault\",\n",
    "    \"preco\": \"1000-2000\"\n",
    "}\n",
    "\n",
    "headers = {\n",
    "    \"token\": \"Bearer Batata\"\n",
    "}\n",
    "\n",
    "\n",
    "response = re.post(\"https://www.httpbin.org/post\", data=payload, headers=headers) # Pode ser json tambem ex: json=payload\n",
    "\n",
    "print(\"HTTP Status -> \", response.status_code)\n",
    "print(\"Texto -> \", response.text)\n",
    "#print(\"Json ->\", response.json())\n",
    "#print(\"Json ->\", response.json()[\"headers\"][\"Host\"])\n",
    "print(\"Header -> \", response.headers)\n"
   ]
  }
 ],
 "metadata": {
  "kernelspec": {
   "display_name": "Python 3",
   "language": "python",
   "name": "python3"
  },
  "language_info": {
   "codemirror_mode": {
    "name": "ipython",
    "version": 3
   },
   "file_extension": ".py",
   "mimetype": "text/x-python",
   "name": "python",
   "nbconvert_exporter": "python",
   "pygments_lexer": "ipython3",
   "version": "3.8.0"
  },
  "orig_nbformat": 4
 },
 "nbformat": 4,
 "nbformat_minor": 2
}
