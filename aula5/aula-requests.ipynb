{
 "cells": [
  {
   "cell_type": "markdown",
   "metadata": {},
   "source": [
    "<center><img src=\"https://drive.google.com/uc?export=view&id=1TioFdYzIbmRKAWdoXoSFld50Vne1pQ60\" /></center>"
   ]
  },
  {
   "cell_type": "markdown",
   "metadata": {},
   "source": [
    "<h1 style=\"color:#6495ED;\">Python - Requests</h1>"
   ]
  },
  {
   "cell_type": "markdown",
   "metadata": {},
   "source": [
    "Verbos HTTP"
   ]
  },
  {
   "cell_type": "markdown",
   "metadata": {},
   "source": [
    "<ol>\n",
    "    <li>GET - Realiza a busca por um recurso. Os parâmetros utilizados são inseridos na própria URL, trafegam em texto aberto, não permite o envio de dados no corpo (body) da requisição. Uma requisição via GET deve retornar apenas dados.</li><br />\n",
    "    <li>POST - Realiza a busca de um recurso, com o objetivo de realizar uma mudança de estado do servidor ou recurso. Os dados do POST não trafegam abertos, permite a inclusão de dados no corpo da requisição (payload). Uma requisição POST pode ou não retornar dados.</li><br />\n",
    "    <li>PATCH - Realiza uma requisição de alteração parcial de uma informação (recurso). Permitem o envio de informação (payload) no corpo da requisição. Pode ou não retornar dados (response).</li><br />\n",
    "    <li>PUT - Realiza uma requisição de alteração total de uma informação (recurso). Permitem o envio de informação (payload) no corpo da requisição. Pode ou não retornar dados (response).</li><br />\n",
    "    <li>DELETE - Realização requisição para exclusão de uma informação (recurso). Por definição não retorna nada no corpo no response.</li><br />\n",
    "    <li>OPTIONS - Se implementado, retorna as opções de acesso ao servidor.</li><br />\n",
    "    <li>HEAD - Retorna apenas o cabeçalho (header) da requisição.</li><br />\n",
    "    <li>TRACE - Realiza uma operação de loop-back para o servidor. Não pode ser executado com a lib requests.</li><br />\n",
    "    <li>CONNECT - Realiza um túnel com o servidor. Não pode ser executado com a lib requests.</li><br />\n",
    "</ol>"
   ]
  },
  {
   "cell_type": "markdown",
   "metadata": {},
   "source": [
    "Código de retorno do HTTP (HTTP Status)"
   ]
  },
  {
   "cell_type": "markdown",
   "metadata": {},
   "source": [
    "<ol>\n",
    "    <li>1xx - Códigos de informação.</li>\n",
    "    <li>2xx - Códigos de sucesso.</li>\n",
    "    <li>3xx - Códigos de redirecionamento.</li>\n",
    "    <li>4xx - Códigos de erro do cliente.</li>\n",
    "    <li>5xx - Códigos de erro de servidor.</li>\n",
    "</ol>"
   ]
  },
  {
   "cell_type": "markdown",
   "metadata": {},
   "source": [
    "Links relevantes:\n",
    "\n",
    "<a href=\"https://developer.mozilla.org/pt-BR/docs/Web/HTTP/Methods\">Métodos HTTP (Verbos)</a><br />\n",
    "<a href=\"https://www.devmedia.com.br/servicos-restful-verbos-http/37103\">Métodos HTTP (Verbos) - DevMedia</a><br />\n",
    "<a href=\"https://developer.mozilla.org/pt-BR/docs/Web/HTTP/Status\">HTTP Status</a><br />\n"
   ]
  },
  {
   "cell_type": "markdown",
   "metadata": {},
   "source": [
    "Instalando a biblioteca requests:"
   ]
  },
  {
   "cell_type": "code",
   "execution_count": null,
   "metadata": {},
   "outputs": [],
   "source": [
    "%pip install requests"
   ]
  },
  {
   "cell_type": "markdown",
   "metadata": {},
   "source": [
    "Utilizando a biblioteca requests:"
   ]
  },
  {
   "cell_type": "code",
   "execution_count": null,
   "metadata": {},
   "outputs": [],
   "source": [
    "import requests"
   ]
  },
  {
   "cell_type": "markdown",
   "metadata": {},
   "source": [
    "Exemplo de GET:"
   ]
  },
  {
   "cell_type": "code",
   "execution_count": null,
   "metadata": {},
   "outputs": [],
   "source": [
    "response = requests.get(\"https://www.google.com\")\n",
    "response"
   ]
  },
  {
   "cell_type": "code",
   "execution_count": null,
   "metadata": {},
   "outputs": [],
   "source": [
    "response.status_code"
   ]
  },
  {
   "cell_type": "code",
   "execution_count": null,
   "metadata": {},
   "outputs": [],
   "source": [
    "response.headers"
   ]
  },
  {
   "cell_type": "code",
   "execution_count": null,
   "metadata": {},
   "outputs": [],
   "source": [
    "response = requests.get(\"http://www.pudim.com.br\")\n",
    "response"
   ]
  },
  {
   "cell_type": "code",
   "execution_count": null,
   "metadata": {},
   "outputs": [],
   "source": [
    "response.headers"
   ]
  },
  {
   "cell_type": "code",
   "execution_count": null,
   "metadata": {},
   "outputs": [],
   "source": [
    "response.text"
   ]
  },
  {
   "cell_type": "code",
   "execution_count": null,
   "metadata": {},
   "outputs": [],
   "source": [
    "response = requests.get(\"http://www.pudim.com.br/nexiste\")\n",
    "response"
   ]
  },
  {
   "cell_type": "code",
   "execution_count": null,
   "metadata": {},
   "outputs": [],
   "source": [
    "response.status_code"
   ]
  },
  {
   "cell_type": "code",
   "execution_count": null,
   "metadata": {},
   "outputs": [],
   "source": [
    "response.headers"
   ]
  },
  {
   "cell_type": "code",
   "execution_count": null,
   "metadata": {},
   "outputs": [],
   "source": [
    "response.text"
   ]
  },
  {
   "cell_type": "code",
   "execution_count": null,
   "metadata": {},
   "outputs": [],
   "source": [
    "response = requests.get(\"http://www.glanejejf.com.br/\") # URL não existe\n",
    "response"
   ]
  },
  {
   "cell_type": "code",
   "execution_count": null,
   "metadata": {},
   "outputs": [],
   "source": [
    "params = {\n",
    "    \"termo\": \"Renault\",\n",
    "    \"ano\": \"2015-2016\",\n",
    "    \"preco\": \"50000-60000\",\n",
    "    \"cidade\": \"1\"\n",
    "}\n",
    "response = requests.get(\"https://www.socarrao.com.br/parana\", params=params)\n",
    "response"
   ]
  },
  {
   "cell_type": "code",
   "execution_count": null,
   "metadata": {},
   "outputs": [],
   "source": [
    "response.status_code"
   ]
  },
  {
   "cell_type": "code",
   "execution_count": null,
   "metadata": {},
   "outputs": [],
   "source": [
    "response.text"
   ]
  },
  {
   "cell_type": "markdown",
   "metadata": {},
   "source": [
    "Exercicios"
   ]
  },
  {
   "cell_type": "markdown",
   "metadata": {},
   "source": [
    "1) Utilizando o a documentação do <a href=\"https://httpbin.org/\">httpbin.org</a>, crie uma requisição do tipo GET para o endpoint correto e envie como parâmetros dados de um objeto do tipo Cliente."
   ]
  },
  {
   "cell_type": "markdown",
   "metadata": {},
   "source": [
    "Solução:"
   ]
  },
  {
   "cell_type": "code",
   "execution_count": null,
   "metadata": {},
   "outputs": [],
   "source": [
    "from dataclasses import dataclass\n",
    "\n",
    "@dataclass\n",
    "class Cliente:\n",
    "    nome: str\n",
    "    cpf: str\n",
    "    endereco: str\n",
    "    renda: float"
   ]
  },
  {
   "cell_type": "code",
   "execution_count": null,
   "metadata": {},
   "outputs": [],
   "source": [
    "import requests\n",
    "\n",
    "c = Cliente(\n",
    "    nome=\"Fulano\",\n",
    "    cpf=\"12\",\n",
    "    endereco=\"Rua Seila 12\",\n",
    "    renda=1200\n",
    ")\n",
    "\n",
    "params = c.__dict__\n",
    "\n",
    "response = requests.get(\n",
    "    url=\"http://httpbin.org/get\",\n",
    "    params=params\n",
    ")\n",
    "\n",
    "if response.status_code == 200:\n",
    "    payload = response.json()\n",
    "\n",
    "    print(\"HTTP Status -> \", response.status_code)\n",
    "    print(\"Parametros -> \", payload['args'])\n",
    "    print(\"IP -> \", payload[\"origin\"])\n",
    "    print(\"URL -> \", payload[\"url\"])"
   ]
  },
  {
   "attachments": {},
   "cell_type": "markdown",
   "metadata": {},
   "source": [
    "2) Utilizando o a documentação do <a href=\"https://httpbin.org/\">httpbin.org</a>, crie uma requisição do tipo POST para o endpoint correto e envie como payload dados de um objeto do tipo Cliente."
   ]
  },
  {
   "attachments": {},
   "cell_type": "markdown",
   "metadata": {},
   "source": [
    "Solução:"
   ]
  },
  {
   "cell_type": "code",
   "execution_count": null,
   "metadata": {},
   "outputs": [],
   "source": [
    "from dataclasses import dataclass\n",
    "\n",
    "@dataclass\n",
    "class Cliente:\n",
    "    nome: str\n",
    "    cpf: str\n",
    "    endereco: str\n",
    "    renda: float"
   ]
  },
  {
   "cell_type": "code",
   "execution_count": null,
   "metadata": {},
   "outputs": [],
   "source": [
    "import requests\n",
    "\n",
    "c = Cliente(\n",
    "    nome=\"Fulano\",\n",
    "    cpf=\"12\",\n",
    "    endereco=\"Rua Seila 12\",\n",
    "    renda=1200\n",
    ")\n",
    "\n",
    "payload = c.__dict__\n",
    "\n",
    "response = requests.post(\n",
    "    url=\"http://httpbin.org/post\",\n",
    "    json=payload\n",
    ")\n",
    "\n",
    "if response.status_code == 200:\n",
    "    payload = response.json()\n",
    "\n",
    "    print(\"HTTP Status -> \", response.status_code)\n",
    "    print(\"Parametros -> \", payload['json'])\n",
    "    print(\"Parametros -> \", payload['form'])\n",
    "    print(\"IP -> \", payload[\"origin\"])\n",
    "    print(\"URL -> \", payload[\"url\"])\n",
    "else:\n",
    "    print(\"HTTP Status -> \", response.status_code)"
   ]
  },
  {
   "attachments": {},
   "cell_type": "markdown",
   "metadata": {},
   "source": [
    "Links relevantes:\n",
    "\n",
    "<a href=\"https://httpbin.org/\">Site para testes de métodos HTTP - httpbin.org</a><br />\n",
    "<a href=\"https://www.mercadopago.com.br/developers/pt/reference/payments/_payments/post\">Exemplo de documentação utilizando verbos e status do HTTP - API do Mercado Pago</a><br />\n",
    "<a href=\"https://docs.fidelimax.com.br/\">Outro exemplo de documentação utilizando verbos e status do HTTP - API do Fidelimax</a><br />\n"
   ]
  }
 ],
 "metadata": {
  "kernelspec": {
   "display_name": "Python 3.7.9 64-bit (windows store)",
   "language": "python",
   "name": "python3"
  },
  "language_info": {
   "codemirror_mode": {
    "name": "ipython",
    "version": 3
   },
   "file_extension": ".py",
   "mimetype": "text/x-python",
   "name": "python",
   "nbconvert_exporter": "python",
   "pygments_lexer": "ipython3",
   "version": "3.7.9"
  },
  "orig_nbformat": 4,
  "vscode": {
   "interpreter": {
    "hash": "39a25611f9fccc4e358ed5a6ff84d955c0950a300bb89bf6122cf9ec76497b9e"
   }
  }
 },
 "nbformat": 4,
 "nbformat_minor": 2
}
