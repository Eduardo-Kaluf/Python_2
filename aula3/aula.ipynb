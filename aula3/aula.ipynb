{
 "cells": [
  {
   "cell_type": "code",
   "execution_count": null,
   "metadata": {},
   "outputs": [],
   "source": [
    "#Métodos Mágicos (Dunder methods)\n",
    "\n",
    "#Servem para substituir funcionalidades e modifica-las em classes\n",
    "\n",
    "#Exercicio de classe com arquivo\n",
    "#Objetivo criar uma classe para manipulação de arquivos\n",
    "#Fazer métodos para inserção, consulta (retornando um Objeto), delete (excluir dados)\n",
    "#Cada entidade deve ter seu próprio arquivo:\n",
    "    #Funcionario (criar com qualquer extensão)\n",
    "    #Cliente\n",
    "    #Produto\n",
    "\n",
    "#Seus arquivos devem ser armazenados compactados\n",
    "\n",
    "#Bonus: novas entidades podem ser definidas pelo usuário. (Criar uma classe EmBranco)\n",
    "#Bonus 2: A consulta deve utilizar um algoritmo de busca.(HeapSort)\n",
    "\n",
    "#Pode utilizar a biblioteca Pickle"
   ]
  }
 ],
 "metadata": {
  "kernelspec": {
   "display_name": "Python 3.8.0 64-bit",
   "language": "python",
   "name": "python3"
  },
  "language_info": {
   "name": "python",
   "version": "3.8.0"
  },
  "orig_nbformat": 4,
  "vscode": {
   "interpreter": {
    "hash": "df0893f56f349688326838aaeea0de204df53a132722cbd565e54b24a8fec5f6"
   }
  }
 },
 "nbformat": 4,
 "nbformat_minor": 2
}
